{
 "cells": [
  {
   "cell_type": "code",
   "execution_count": 1,
   "metadata": {},
   "outputs": [],
   "source": [
    "import torch\n",
    "import torch.nn as nn\n",
    "from torchvision import datasets ,models,transforms\n",
    "from pathlib import Path\n",
    "from matplotlib import pyplot as plt\n",
    "import numpy as np\n",
    "import torch.nn.functional as F\n",
    "from sklearn.model_selection import train_test_split\n",
    "import matplotlib.pyplot as plt\n",
    "from torch.nn import Linear, ReLU, CrossEntropyLoss, Conv2d, MaxPool2d, Module\n",
    "from torch.optim import Adam\n",
    "import pandas as pd\n",
    "import os\n",
    "from os import listdir\n",
    "from tqdm import tqdm_notebook as tqdm\n",
    "from PIL import Image\n",
    "from transformers import set_seed\n",
    "import random"
   ]
  },
  {
   "cell_type": "code",
   "execution_count": 2,
   "metadata": {},
   "outputs": [],
   "source": [
    "PATH_train=\"trainset\"\n",
    "TRAIN =Path(PATH_train)\n",
    "batch_size = 2\n",
    "#Learning Rate：學習率\n",
    "LR = 0.0001\n",
    "# Resize 調整圖片大小\n",
    "transforms = transforms.Compose([transforms.Resize((224,224)), transforms.ToTensor()])"
   ]
  },
  {
   "cell_type": "code",
   "execution_count": 3,
   "metadata": {},
   "outputs": [],
   "source": [
    "# 模型再現性 放在dataloader前面 #\n",
    "def seed_all(seed):\n",
    "  random.seed(seed)\n",
    "  np.random.seed(seed)\n",
    "  os.environ['PYTHONHASHSEED'] = str(seed)  # 禁止hash随机化\n",
    "  os.environ['CUBLAS_WORKSPACE_CONFIG'] = ':4096:8'  # 在cuda 10.2及以上的版本中，需要设置以下环境变量来保证cuda的结果可复现\n",
    "  torch.manual_seed(seed)\n",
    "  torch.cuda.manual_seed(seed)\n",
    "  torch.cuda.manual_seed_all(seed)\n",
    "  torch.backends.cudnn.deterministic = True\n",
    "  torch.backends.cudnn.benchmark = False\n",
    "##########################################\n",
    "\n",
    "seed_all(42)\n",
    "train_data = datasets.ImageFolder(TRAIN, transform=transforms)\n",
    "train_size = int(0.7 * len(train_data))\n",
    "valid_size = len(train_data) - train_size\n",
    "train_data, valid_data = torch.utils.data.random_split(train_data, [train_size, valid_size])\n",
    "# 分為訓練與驗證集，比例7:3，之後製作dataloader\n",
    "train_loader = torch.utils.data.DataLoader(train_data, batch_size=batch_size, shuffle=True)\n",
    "valid_loader = torch.utils.data.DataLoader(valid_data, batch_size=batch_size, shuffle=True)"
   ]
  },
  {
   "cell_type": "code",
   "execution_count": 4,
   "metadata": {},
   "outputs": [],
   "source": [
    "# input_shape=(3,224,224)\n",
    "class CNN_Model(nn.Module):\n",
    "    def __init__(self):\n",
    "        super(CNN_Model, self).__init__()\n",
    "        self.cnn1 = nn.Conv2d(3, 16, kernel_size=3, stride=1) \n",
    "        self.relu1 = nn.ReLU(inplace=True) \n",
    "        # Max pool_1\n",
    "        self.maxpool1 = nn.MaxPool2d(kernel_size=2)\n",
    "        # Convolution_2\n",
    "        self.cnn2 = nn.Conv2d(16,8, kernel_size=3, stride=1) \n",
    "        self.relu2 = nn.ReLU(inplace=True) \n",
    "        # Maxpool_2\n",
    "        self.maxpool2 = nn.MaxPool2d(kernel_size=2)\n",
    "        # Fullyconnected_1 \n",
    "        self.fc = nn.Linear(8 * 54 * 54, 2)     \n",
    "    #列出forward的路徑，將init列出的層代入\n",
    "    def forward(self, x):\n",
    "        out = self.cnn1(x) \n",
    "        out = self.relu1(out)\n",
    "        out = self.maxpool1(out)\n",
    "        out = self.cnn2(out)\n",
    "        out = self.relu2(out)\n",
    "        out = self.maxpool2(out)\n",
    "        out = out.view(out.size(0), -1) \n",
    "        out = self.fc(out) \n",
    "        return out\n",
    "    \n"
   ]
  },
  {
   "cell_type": "code",
   "execution_count": 5,
   "metadata": {},
   "outputs": [],
   "source": [
    "def train(model,n_epochs,train_loader,valid_loader,optimizer,criterion):\n",
    "    train_acc_his,valid_acc_his=[],[]\n",
    "    train_losses_his,valid_losses_his=[],[]\n",
    "    for epoch in range(1, n_epochs+1):\n",
    "        # keep track of training and validation loss\n",
    "        train_loss,valid_loss = 0.0,0.0\n",
    "        train_losses,valid_losses=[],[]\n",
    "        train_correct,val_correct,train_total,val_total=0,0,0,0\n",
    "        train_pred,train_target=torch.zeros(1,1),torch.zeros(1,1) #(8,1)\n",
    "        val_pred,val_target=torch.zeros(1,1),torch.zeros(1,1)\n",
    "        count=0\n",
    "        count2=0\n",
    "        print('running epoch: {}'.format(epoch))\n",
    "        ############################################\n",
    "        \n",
    "        \n",
    "        \n",
    "        \n",
    "        # train the model\n",
    "        model.train()\n",
    "        model = model.cuda()\n",
    "        for data, target in tqdm(train_loader):\n",
    "            # move tensors to GPU if CUDA is available\n",
    "            data, target = data.cuda(), target.cuda()\n",
    "            # forward pass: compute predicted outputs by passing inputs to the model\n",
    "            output = model(data)\n",
    "            # calculate the batch loss\n",
    "            loss = criterion(output, target)\n",
    "            #calculate accuracy\n",
    "            pred = output.data.max(dim = 1, keepdim = True)[1]\n",
    "            train_correct += np.sum(np.squeeze(pred.eq(target.data.view_as(pred))).cpu().numpy())\n",
    "            train_total += data.size(0)\n",
    "            # backward pass: compute gradient of the loss with respect to model parameters\n",
    "            loss.backward()\n",
    "            # perform a single optimization step (parameter update)\n",
    "            optimizer.step()\n",
    "            # update training loss\n",
    "            train_losses.append(loss.item()*data.size(0))\n",
    "            # clear the gradients of all optimized variables\n",
    "            optimizer.zero_grad()\n",
    "            if count==0:\n",
    "                train_pred=pred\n",
    "                train_target=target.data.view_as(pred)\n",
    "                count=count+1\n",
    "            else:\n",
    "                train_pred=torch.cat((train_pred,pred), 0)\n",
    "                train_target=torch.cat((train_target,target.data.view_as(pred)), 0)\n",
    "        train_pred=train_pred.cpu().view(-1).numpy().tolist()\n",
    "        train_target=train_target.cpu().view(-1).numpy().tolist()\n",
    "        ##################################################\n",
    "        \n",
    "        \n",
    "        \n",
    "        # validate the model\n",
    "        model.eval()\n",
    "        for data, target in tqdm(valid_loader):\n",
    "            data, target = data.cuda(), target.cuda()\n",
    "            output = model(data)\n",
    "            # batch loss\n",
    "            loss =criterion(output, target)\n",
    "            #calculate accuracy\n",
    "            pred = output.data.max(dim = 1, keepdim = True)[1]\n",
    "            val_correct += np.sum(np.squeeze(pred.eq(target.data.view_as(pred))).cpu().numpy())\n",
    "            val_total += data.size(0)\n",
    "            valid_losses.append(loss.item()*data.size(0))\n",
    "            if count2==0:\n",
    "                val_pred=pred\n",
    "                val_target=target.data.view_as(pred)\n",
    "                count2=count+1\n",
    "            else:\n",
    "                val_pred=torch.cat((val_pred,pred), 0)\n",
    "                val_target=torch.cat((val_target,target.data.view_as(pred)), 0)\n",
    "        val_pred=val_pred.cpu().view(-1).numpy().tolist()\n",
    "        val_target=val_target.cpu().view(-1).numpy().tolist()\n",
    "        \n",
    "        # average losses\n",
    "        train_loss=np.average(train_losses)\n",
    "        valid_loss=np.average(valid_losses)\n",
    "        \n",
    "        # average accuracy\n",
    "        train_acc= train_correct/train_total\n",
    "        valid_acc= val_correct/val_total\n",
    "        train_acc_his.append(train_acc)\n",
    "        valid_acc_his.append(valid_acc)\n",
    "        train_losses_his.append(train_loss)\n",
    "        valid_losses_his.append(valid_loss)\n",
    "        print('Training Loss: {:.6f}    Validation Loss: {:.6f}'.format(train_loss, valid_loss))\n",
    "        print('Training Accuracy: {:.6f}    Validation Accuracy: {:.6f}'.format(train_acc, valid_acc))\n",
    "    return train_acc_his,valid_acc_his,train_losses_his,valid_losses_his,model"
   ]
  },
  {
   "cell_type": "code",
   "execution_count": 6,
   "metadata": {},
   "outputs": [
    {
     "name": "stdout",
     "output_type": "stream",
     "text": [
      "running epoch: 1\n"
     ]
    },
    {
     "name": "stderr",
     "output_type": "stream",
     "text": [
      "c:\\Users\\TMU\\anaconda3\\envs\\pytorch\\lib\\site-packages\\ipykernel_launcher.py:24: TqdmDeprecationWarning: This function will be removed in tqdm==5.0.0\n",
      "Please use `tqdm.notebook.tqdm` instead of `tqdm.tqdm_notebook`\n"
     ]
    },
    {
     "data": {
      "application/vnd.jupyter.widget-view+json": {
       "model_id": "33fa11b39ff04b20b50aea2b5b2c4e72",
       "version_major": 2,
       "version_minor": 0
      },
      "text/plain": [
       "  0%|          | 0/13 [00:00<?, ?it/s]"
      ]
     },
     "metadata": {},
     "output_type": "display_data"
    },
    {
     "name": "stderr",
     "output_type": "stream",
     "text": [
      "c:\\Users\\TMU\\anaconda3\\envs\\pytorch\\lib\\site-packages\\ipykernel_launcher.py:58: TqdmDeprecationWarning: This function will be removed in tqdm==5.0.0\n",
      "Please use `tqdm.notebook.tqdm` instead of `tqdm.tqdm_notebook`\n"
     ]
    },
    {
     "data": {
      "application/vnd.jupyter.widget-view+json": {
       "model_id": "7fb99a28dc0849f3ba52fd563996387a",
       "version_major": 2,
       "version_minor": 0
      },
      "text/plain": [
       "  0%|          | 0/6 [00:00<?, ?it/s]"
      ]
     },
     "metadata": {},
     "output_type": "display_data"
    },
    {
     "name": "stdout",
     "output_type": "stream",
     "text": [
      "Training Loss: 1.368809    Validation Loss: 1.282596\n",
      "Training Accuracy: 0.520000    Validation Accuracy: 0.454545\n",
      "running epoch: 2\n"
     ]
    },
    {
     "data": {
      "application/vnd.jupyter.widget-view+json": {
       "model_id": "bfff2f7cc41344099d6f330137f2859b",
       "version_major": 2,
       "version_minor": 0
      },
      "text/plain": [
       "  0%|          | 0/13 [00:00<?, ?it/s]"
      ]
     },
     "metadata": {},
     "output_type": "display_data"
    },
    {
     "data": {
      "application/vnd.jupyter.widget-view+json": {
       "model_id": "df29934c44c0484f957f0a14b9f0d035",
       "version_major": 2,
       "version_minor": 0
      },
      "text/plain": [
       "  0%|          | 0/6 [00:00<?, ?it/s]"
      ]
     },
     "metadata": {},
     "output_type": "display_data"
    },
    {
     "name": "stdout",
     "output_type": "stream",
     "text": [
      "Training Loss: 1.316388    Validation Loss: 1.270587\n",
      "Training Accuracy: 0.600000    Validation Accuracy: 0.545455\n",
      "running epoch: 3\n"
     ]
    },
    {
     "data": {
      "application/vnd.jupyter.widget-view+json": {
       "model_id": "53c014defe214280a85c98149515c7eb",
       "version_major": 2,
       "version_minor": 0
      },
      "text/plain": [
       "  0%|          | 0/13 [00:00<?, ?it/s]"
      ]
     },
     "metadata": {},
     "output_type": "display_data"
    },
    {
     "data": {
      "application/vnd.jupyter.widget-view+json": {
       "model_id": "6f986034131a4831a825cef82bae933c",
       "version_major": 2,
       "version_minor": 0
      },
      "text/plain": [
       "  0%|          | 0/6 [00:00<?, ?it/s]"
      ]
     },
     "metadata": {},
     "output_type": "display_data"
    },
    {
     "name": "stdout",
     "output_type": "stream",
     "text": [
      "Training Loss: 1.282893    Validation Loss: 1.277392\n",
      "Training Accuracy: 0.800000    Validation Accuracy: 0.363636\n",
      "running epoch: 4\n"
     ]
    },
    {
     "data": {
      "application/vnd.jupyter.widget-view+json": {
       "model_id": "e252f13481264d2d934ea2c53a152e90",
       "version_major": 2,
       "version_minor": 0
      },
      "text/plain": [
       "  0%|          | 0/13 [00:00<?, ?it/s]"
      ]
     },
     "metadata": {},
     "output_type": "display_data"
    },
    {
     "data": {
      "application/vnd.jupyter.widget-view+json": {
       "model_id": "64792adbb4e2446cb0b83f96e229b806",
       "version_major": 2,
       "version_minor": 0
      },
      "text/plain": [
       "  0%|          | 0/6 [00:00<?, ?it/s]"
      ]
     },
     "metadata": {},
     "output_type": "display_data"
    },
    {
     "name": "stdout",
     "output_type": "stream",
     "text": [
      "Training Loss: 1.250821    Validation Loss: 1.292510\n",
      "Training Accuracy: 0.720000    Validation Accuracy: 0.636364\n",
      "running epoch: 5\n"
     ]
    },
    {
     "data": {
      "application/vnd.jupyter.widget-view+json": {
       "model_id": "32731d378e014eae9b32197de05edede",
       "version_major": 2,
       "version_minor": 0
      },
      "text/plain": [
       "  0%|          | 0/13 [00:00<?, ?it/s]"
      ]
     },
     "metadata": {},
     "output_type": "display_data"
    },
    {
     "data": {
      "application/vnd.jupyter.widget-view+json": {
       "model_id": "b50911a98eae41deba14c26fbc2a5880",
       "version_major": 2,
       "version_minor": 0
      },
      "text/plain": [
       "  0%|          | 0/6 [00:00<?, ?it/s]"
      ]
     },
     "metadata": {},
     "output_type": "display_data"
    },
    {
     "name": "stdout",
     "output_type": "stream",
     "text": [
      "Training Loss: 1.182292    Validation Loss: 1.308343\n",
      "Training Accuracy: 0.920000    Validation Accuracy: 0.181818\n",
      "running epoch: 6\n"
     ]
    },
    {
     "data": {
      "application/vnd.jupyter.widget-view+json": {
       "model_id": "e22e31cfcee4490385df5c598bbf8d8f",
       "version_major": 2,
       "version_minor": 0
      },
      "text/plain": [
       "  0%|          | 0/13 [00:00<?, ?it/s]"
      ]
     },
     "metadata": {},
     "output_type": "display_data"
    },
    {
     "data": {
      "application/vnd.jupyter.widget-view+json": {
       "model_id": "d70319ae99064a698feb044e205a9895",
       "version_major": 2,
       "version_minor": 0
      },
      "text/plain": [
       "  0%|          | 0/6 [00:00<?, ?it/s]"
      ]
     },
     "metadata": {},
     "output_type": "display_data"
    },
    {
     "name": "stdout",
     "output_type": "stream",
     "text": [
      "Training Loss: 1.137788    Validation Loss: 1.353677\n",
      "Training Accuracy: 0.880000    Validation Accuracy: 0.181818\n",
      "running epoch: 7\n"
     ]
    },
    {
     "data": {
      "application/vnd.jupyter.widget-view+json": {
       "model_id": "507744c7cd2c42f2bd02d6644d453a48",
       "version_major": 2,
       "version_minor": 0
      },
      "text/plain": [
       "  0%|          | 0/13 [00:00<?, ?it/s]"
      ]
     },
     "metadata": {},
     "output_type": "display_data"
    },
    {
     "data": {
      "application/vnd.jupyter.widget-view+json": {
       "model_id": "5c435b63f07a41678506a867eee75c30",
       "version_major": 2,
       "version_minor": 0
      },
      "text/plain": [
       "  0%|          | 0/6 [00:00<?, ?it/s]"
      ]
     },
     "metadata": {},
     "output_type": "display_data"
    },
    {
     "name": "stdout",
     "output_type": "stream",
     "text": [
      "Training Loss: 1.051077    Validation Loss: 1.400135\n",
      "Training Accuracy: 0.920000    Validation Accuracy: 0.181818\n",
      "running epoch: 8\n"
     ]
    },
    {
     "data": {
      "application/vnd.jupyter.widget-view+json": {
       "model_id": "e2077e28255a4ab9b6fac794311e4125",
       "version_major": 2,
       "version_minor": 0
      },
      "text/plain": [
       "  0%|          | 0/13 [00:00<?, ?it/s]"
      ]
     },
     "metadata": {},
     "output_type": "display_data"
    },
    {
     "data": {
      "application/vnd.jupyter.widget-view+json": {
       "model_id": "2466142376a445b583f54dbd9b0484e7",
       "version_major": 2,
       "version_minor": 0
      },
      "text/plain": [
       "  0%|          | 0/6 [00:00<?, ?it/s]"
      ]
     },
     "metadata": {},
     "output_type": "display_data"
    },
    {
     "name": "stdout",
     "output_type": "stream",
     "text": [
      "Training Loss: 0.983207    Validation Loss: 1.447893\n",
      "Training Accuracy: 0.800000    Validation Accuracy: 0.181818\n",
      "running epoch: 9\n"
     ]
    },
    {
     "data": {
      "application/vnd.jupyter.widget-view+json": {
       "model_id": "acf64152fce54d55841d3000e99f96f6",
       "version_major": 2,
       "version_minor": 0
      },
      "text/plain": [
       "  0%|          | 0/13 [00:00<?, ?it/s]"
      ]
     },
     "metadata": {},
     "output_type": "display_data"
    },
    {
     "data": {
      "application/vnd.jupyter.widget-view+json": {
       "model_id": "30887c4c0bca448b8ee96c8dfd4675be",
       "version_major": 2,
       "version_minor": 0
      },
      "text/plain": [
       "  0%|          | 0/6 [00:00<?, ?it/s]"
      ]
     },
     "metadata": {},
     "output_type": "display_data"
    },
    {
     "name": "stdout",
     "output_type": "stream",
     "text": [
      "Training Loss: 0.909409    Validation Loss: 1.532060\n",
      "Training Accuracy: 0.880000    Validation Accuracy: 0.363636\n",
      "running epoch: 10\n"
     ]
    },
    {
     "data": {
      "application/vnd.jupyter.widget-view+json": {
       "model_id": "f766f736231d4ce4aabce4e1a7e07417",
       "version_major": 2,
       "version_minor": 0
      },
      "text/plain": [
       "  0%|          | 0/13 [00:00<?, ?it/s]"
      ]
     },
     "metadata": {},
     "output_type": "display_data"
    },
    {
     "data": {
      "application/vnd.jupyter.widget-view+json": {
       "model_id": "5899bc44a7db477ba76e8fdc677fb837",
       "version_major": 2,
       "version_minor": 0
      },
      "text/plain": [
       "  0%|          | 0/6 [00:00<?, ?it/s]"
      ]
     },
     "metadata": {},
     "output_type": "display_data"
    },
    {
     "name": "stdout",
     "output_type": "stream",
     "text": [
      "Training Loss: 0.830510    Validation Loss: 1.626039\n",
      "Training Accuracy: 0.960000    Validation Accuracy: 0.363636\n"
     ]
    }
   ],
   "source": [
    "model=CNN_Model()\n",
    "n_epochs = 10\n",
    "optimizer = torch.optim.Adam(model.parameters(), lr=LR)\n",
    "criterion = CrossEntropyLoss()\n",
    "train_acc_his,valid_acc_his,train_losses_his,valid_losses_his,model1=train(model,n_epochs,train_loader,valid_loader,optimizer,criterion)"
   ]
  },
  {
   "cell_type": "code",
   "execution_count": 7,
   "metadata": {},
   "outputs": [
    {
     "data": {
      "image/png": "[encoded data removed]",
      "text/plain": [
       "<Figure size 1080x720 with 2 Axes>"
      ]
     },
     "metadata": {
      "needs_background": "light"
     },
     "output_type": "display_data"
    }
   ],
   "source": [
    "plt.figure(figsize=(15,10))\n",
    "plt.subplot(221)\n",
    "plt.plot(train_losses_his, 'r', label = 'train loss')\n",
    "plt.plot(valid_losses_his, 'bo', label = 'valid loss')\n",
    "plt.title(\"CNN_base Loss\")\n",
    "plt.legend(loc='upper left')\n",
    "plt.subplot(222)\n",
    "plt.plot(train_acc_his, 'r', label = 'train accuracy')\n",
    "plt.plot(valid_acc_his, 'bo', label = 'valid accuracy')\n",
    "plt.title(\"CNN_base Accuracy\")\n",
    "plt.legend(loc='upper left')\n",
    "plt.show()"
   ]
  }
 ],
 "metadata": {
  "kernelspec": {
   "display_name": "pytorch",
   "language": "python",
   "name": "python3"
  },
  "language_info": {
   "codemirror_mode": {
    "name": "ipython",
    "version": 3
   },
   "file_extension": ".py",
   "mimetype": "text/x-python",
   "name": "python",
   "nbconvert_exporter": "python",
   "pygments_lexer": "ipython3",
   "version": "3.7.13"
  },
  "orig_nbformat": 4,
  "vscode": {
   "interpreter": {
    "hash": "c186a1ff5993288e48646042d8153cbbd80f2047b48e6f9839f3a384e19176a0"
   }
  }
 },
 "nbformat": 4,
 "nbformat_minor": 2
}
