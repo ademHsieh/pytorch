{
 "cells": [
  {
   "cell_type": "code",
   "execution_count": 1,
   "metadata": {},
   "outputs": [],
   "source": [
    "import torch\n",
    "from torch import nn\n",
    "from torch.nn import functional as F\n",
    "from torch import optim\n",
    "from torch.utils.data import DataLoader, DataLoader\n",
    "import torchvision\n",
    "import torchvision.transforms as transforms"
   ]
  },
  {
   "cell_type": "code",
   "execution_count": 2,
   "metadata": {},
   "outputs": [],
   "source": [
    "# hyperparameter\n",
    "lr = 0.01\n",
    "gamma = 0.8\n",
    "bs = 64\n",
    "epochs = 10"
   ]
  },
  {
   "cell_type": "code",
   "execution_count": 3,
   "metadata": {},
   "outputs": [],
   "source": [
    "# load data\n",
    "mnist = torchvision.datasets.FashionMNIST(root = './Datastes', train = True, download = True, transform = transforms.ToTensor())\n",
    "# build dataset\n",
    "batchdata = DataLoader(mnist, batch_size = bs, shuffle = True, drop_last = False)"
   ]
  },
  {
   "cell_type": "code",
   "execution_count": 11,
   "metadata": {},
   "outputs": [
    {
     "data": {
      "text/plain": [
       "938"
      ]
     },
     "execution_count": 11,
     "metadata": {},
     "output_type": "execute_result"
    }
   ],
   "source": [
    "len(batchdata)"
   ]
  },
  {
   "cell_type": "code",
   "execution_count": 4,
   "metadata": {},
   "outputs": [
    {
     "name": "stdout",
     "output_type": "stream",
     "text": [
      "torch.Size([64, 1, 28, 28])\n",
      "torch.Size([64])\n"
     ]
    }
   ],
   "source": [
    "for x, y in batchdata:\n",
    "    print(x.shape)\n",
    "    print(y.shape)\n",
    "    break\n",
    "# torch.Size([128, 1, 28, 28])\n",
    "# torch.Size([128])"
   ]
  },
  {
   "cell_type": "code",
   "execution_count": 5,
   "metadata": {},
   "outputs": [],
   "source": [
    "# input dimension\n",
    "input_ = mnist.data[0].numel()  # 784\n",
    "# output dimension\n",
    "output_ = len(mnist.targets.unique()) # 10"
   ]
  },
  {
   "cell_type": "code",
   "execution_count": 6,
   "metadata": {},
   "outputs": [],
   "source": [
    "# model build\n",
    "class Model(nn.Module):\n",
    "    def __init__(self, in_features, out_features):\n",
    "        super().__init__()\n",
    "        self.linear1 = nn.Linear(in_features, 128, bias = True)\n",
    "        self.output = nn.Linear(128, out_features, bias = True)\n",
    "    \n",
    "    def forward(self, x):\n",
    "        x = x.view(-1, 28*28)\n",
    "        sigma1 = torch.relu(self.linear1(x))\n",
    "        sigma2 = F.log_softmax(self.output(sigma1), dim = -1)\n",
    "        return sigma2"
   ]
  },
  {
   "cell_type": "code",
   "execution_count": 22,
   "metadata": {},
   "outputs": [],
   "source": [
    "# fit model\n",
    "def train_fit(net, batchdata, lr, gamma, epochs):\n",
    "    # loss function\n",
    "    criterion = nn.NLLLoss()\n",
    "    # optimizer\n",
    "    opt = optim.SGD(net.parameters(), lr = lr, momentum = gamma)\n",
    "    \n",
    "    # samples back to square one\n",
    "    samples = 0\n",
    "    # corrects back to square one\n",
    "    corrects = 0\n",
    "    \n",
    "    # training epoch\n",
    "    for epoch in range(epochs):\n",
    "        for batch_idx, (x, y) in enumerate(batchdata):\n",
    "            # label to one dimension\n",
    "            y = y.view(x.shape[0])\n",
    "            \n",
    "            # forward\n",
    "            sigma = net.forward(x)\n",
    "            # calculate loss \n",
    "            loss = criterion(sigma, y)\n",
    "            # backward\n",
    "            loss.backward()\n",
    "            # grad()\n",
    "            opt.step()\n",
    "            # grad back to square one\n",
    "            opt.zero_grad()\n",
    "            \n",
    "            samples += x.shape[0]\n",
    "            \n",
    "            yhat = torch.max(sigma, -1)[1]\n",
    "            corrects += torch.sum(yhat == y)\n",
    "            \n",
    "            # print model progress rate\n",
    "        print(\"Epoch{}: Loss:{:.6f}, Accuracy:{:.6f}\".format(epoch + 1, loss.data.item(),float(100.0*corrects/samples)))"
   ]
  },
  {
   "cell_type": "code",
   "execution_count": 23,
   "metadata": {},
   "outputs": [
    {
     "name": "stdout",
     "output_type": "stream",
     "text": [
      "Epoch1: Loss:0.643133, Accuracy:75.908333\n",
      "Epoch2: Loss:0.744018, Accuracy:79.631668\n",
      "Epoch3: Loss:0.517258, Accuracy:81.338890\n",
      "Epoch4: Loss:0.579227, Accuracy:82.381668\n",
      "Epoch5: Loss:0.319061, Accuracy:83.153000\n",
      "Epoch6: Loss:0.245719, Accuracy:83.772499\n",
      "Epoch7: Loss:0.376630, Accuracy:84.286194\n",
      "Epoch8: Loss:0.600894, Accuracy:84.707291\n",
      "Epoch9: Loss:0.349639, Accuracy:85.072777\n",
      "Epoch10: Loss:0.249381, Accuracy:85.407166\n"
     ]
    }
   ],
   "source": [
    "# set random seed\n",
    "torch.manual_seed(51)\n",
    "\n",
    "net = Model(input_, output_)\n",
    "\n",
    "# training model  , finally\n",
    "train_fit(net, batchdata, lr, gamma, epochs)"
   ]
  }
 ],
 "metadata": {
  "kernelspec": {
   "display_name": "pytorch",
   "language": "python",
   "name": "python3"
  },
  "language_info": {
   "codemirror_mode": {
    "name": "ipython",
    "version": 3
   },
   "file_extension": ".py",
   "mimetype": "text/x-python",
   "name": "python",
   "nbconvert_exporter": "python",
   "pygments_lexer": "ipython3",
   "version": "3.7.13"
  },
  "orig_nbformat": 4,
  "vscode": {
   "interpreter": {
    "hash": "c186a1ff5993288e48646042d8153cbbd80f2047b48e6f9839f3a384e19176a0"
   }
  }
 },
 "nbformat": 4,
 "nbformat_minor": 2
}
