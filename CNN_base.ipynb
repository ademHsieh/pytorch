{
 "cells": [
  {
   "cell_type": "code",
   "execution_count": 1,
   "metadata": {},
   "outputs": [],
   "source": [
    "# 簡單的mnist訓練測試\n",
    "import torch\n",
    "import torch.nn as nn\n",
    "import torch.nn.functional as F\n",
    "from torch.autograd import Variable\n",
    "from sklearn.model_selection import train_test_split\n",
    "import matplotlib.pyplot as plt"
   ]
  },
  {
   "cell_type": "code",
   "execution_count": 2,
   "metadata": {},
   "outputs": [
    {
     "name": "stderr",
     "output_type": "stream",
     "text": [
      "Using TensorFlow backend.\n"
     ]
    }
   ],
   "source": [
    "from keras.datasets import mnist\n",
    "(X_train, Y_train), (X_test, Y_test) = mnist.load_data()\n",
    "X_train = X_train.astype('float32') / 255  # 影像正則化\n",
    "X_test = X_test.astype('float32') / 255 # 影像正則化"
   ]
  },
  {
   "cell_type": "code",
   "execution_count": 3,
   "metadata": {},
   "outputs": [
    {
     "data": {
      "text/plain": [
       "(60000, 28, 28)"
      ]
     },
     "execution_count": 3,
     "metadata": {},
     "output_type": "execute_result"
    }
   ],
   "source": [
    "X_train.shape"
   ]
  },
  {
   "cell_type": "code",
   "execution_count": 4,
   "metadata": {},
   "outputs": [],
   "source": [
    "features_train, features_test, targets_train, targets_test = train_test_split(X_train, Y_train, test_size = 0.2, random_state = 42) # trainset與testset數據分集\n",
    "featuresTrain = torch.from_numpy(features_train)\n",
    "targetsTrain = torch.from_numpy(targets_train).type(torch.LongTensor)\n",
    "featuresTest = torch.from_numpy(features_test)\n",
    "targetsTest = torch.from_numpy(targets_test).type(torch.LongTensor)"
   ]
  },
  {
   "cell_type": "code",
   "execution_count": 5,
   "metadata": {},
   "outputs": [],
   "source": [
    "# Pytorch train and test TensorDataset\n",
    "train = torch.utils.data.TensorDataset(featuresTrain,targetsTrain)\n",
    "test = torch.utils.data.TensorDataset(featuresTest,targetsTest)"
   ]
  },
  {
   "cell_type": "code",
   "execution_count": 6,
   "metadata": {},
   "outputs": [],
   "source": [
    "# Hyper Parameters 超參數\n",
    "# batch_size, epoch and iteration\n",
    "LR = 0.01\n",
    "batch_size = 100\n",
    "n_iters = 5000\n",
    "num_epochs = n_iters / (len(features_train) / batch_size)\n",
    "num_epochs = int(num_epochs)\n",
    "# num_epochs = 5"
   ]
  },
  {
   "cell_type": "code",
   "execution_count": 7,
   "metadata": {},
   "outputs": [],
   "source": [
    "# Pytorch DataLoader 影像傳入model前的準備，batch size\n",
    "train_loader = torch.utils.data.DataLoader(train, batch_size = batch_size, shuffle = True)\n",
    "test_loader = torch.utils.data.DataLoader(test, batch_size = batch_size, shuffle = True)"
   ]
  },
  {
   "cell_type": "code",
   "execution_count": 8,
   "metadata": {},
   "outputs": [],
   "source": [
    "# Create CNN Model\n",
    "class CNN_Model(nn.Module):\n",
    "    def __init__(self):\n",
    "        super(CNN_Model, self).__init__()\n",
    "        # Convolution 1 , input_shape=(1,28,28)\n",
    "        self.cnn1 = nn.Conv2d(in_channels=1, out_channels=16, kernel_size=5, stride=1, padding=0) #output_shape=(16,24,24)\n",
    "        self.relu1 = nn.ReLU() # activation\n",
    "        # Max pool 1\n",
    "        # self.maxpool1 = nn.MaxPool2d(kernel_size=2) #output_shape=(16,12,12)\n",
    "        \n",
    "        # Convolution 2\n",
    "        self.cnn2 = nn.Conv2d(in_channels=16, out_channels=32, kernel_size=5, stride=1, padding=0) #output_shape=(32,20,20)\n",
    "        self.relu2 = nn.ReLU() # activation\n",
    "        # Max pool 2\n",
    "        self.maxpool2 = nn.MaxPool2d(kernel_size=2) #output_shape=(32,8,8)\n",
    "        \n",
    "        # Convolution 3\n",
    "        self.cnn3 = nn.Conv2d(in_channels=32, out_channels=64, kernel_size=5, stride=1, padding=0) #output_shape=(64,6,6)\n",
    "        self.relu3 = nn.ReLU() # activation\n",
    "        # Max pool 2\n",
    "        self.maxpool3 = nn.MaxPool2d(kernel_size=2) #output_shape=(64,2,2)\n",
    "        \n",
    "        # # Convolution 4\n",
    "        # self.cnn4 = nn.Conv2d(in_channels=64, out_channels=128, kernel_size=5, stride=1, padding=0) #output_shape=(128,12,12)\n",
    "        # self.relu4 = nn.ReLU() # activation\n",
    "        # # Max pool 4\n",
    "        # self.maxpool4 = nn.MaxPool2d(kernel_size=2) #output_shape=(128,6,6)       \n",
    "        \n",
    "        \n",
    "        # Fully connected 1 ,#input_shape=(32*4*4)\n",
    "        self.fc1 = nn.Linear(64*3*3, 10) \n",
    "    \n",
    "    def forward(self, x):\n",
    "        # Convolution 1\n",
    "        out = self.cnn1(x)\n",
    "        out = self.relu1(out)\n",
    "        # Max pool 1\n",
    "        # out = self.maxpool1(out)\n",
    "        # Convolution 2 \n",
    "        out = self.cnn2(out)\n",
    "        out = self.relu2(out)\n",
    "        # Max pool 2 \n",
    "        out = self.maxpool2(out)\n",
    "        \n",
    "        # Convolution 3 \n",
    "        out = self.cnn3(out)\n",
    "        out = self.relu3(out)\n",
    "        # Max pool 3 \n",
    "        out = self.maxpool3(out)\n",
    "        \n",
    "        # # Convolution 4 \n",
    "        # out = self.cnn4(out)\n",
    "        # out = self.relu4(out)\n",
    "        # # Max pool 4 \n",
    "        # out = self.maxpool4(out)\n",
    "        \n",
    "        out = out.view(out.size(0), -1)\n",
    "        # Linear function (readout)\n",
    "        out = self.fc1(out)\n",
    "        return out"
   ]
  },
  {
   "cell_type": "code",
   "execution_count": 9,
   "metadata": {},
   "outputs": [
    {
     "name": "stdout",
     "output_type": "stream",
     "text": [
      "CNN_Model(\n",
      "  (cnn1): Conv2d(1, 16, kernel_size=(5, 5), stride=(1, 1))\n",
      "  (relu1): ReLU()\n",
      "  (cnn2): Conv2d(16, 32, kernel_size=(5, 5), stride=(1, 1))\n",
      "  (relu2): ReLU()\n",
      "  (maxpool2): MaxPool2d(kernel_size=2, stride=2, padding=0, dilation=1, ceil_mode=False)\n",
      "  (cnn3): Conv2d(32, 64, kernel_size=(5, 5), stride=(1, 1))\n",
      "  (relu3): ReLU()\n",
      "  (maxpool3): MaxPool2d(kernel_size=2, stride=2, padding=0, dilation=1, ceil_mode=False)\n",
      "  (fc1): Linear(in_features=576, out_features=10, bias=True)\n",
      ")\n"
     ]
    }
   ],
   "source": [
    "model = CNN_Model()\n",
    "print(model)\n",
    "optimizer = torch.optim.Adam(model.parameters(), lr=LR)   # optimize all cnn parameters\n",
    "loss_func = nn.CrossEntropyLoss()   # the target label is not one-hotted\n",
    "input_shape = (-1,1,28,28)"
   ]
  },
  {
   "cell_type": "code",
   "execution_count": 10,
   "metadata": {},
   "outputs": [],
   "source": [
    "def fit_model(model, loss_func, optimizer, input_shape, num_epochs, train_loader, test_loader):\n",
    "    # Traning the Model\n",
    "    #history-like list for store loss & acc value\n",
    "    training_loss = []\n",
    "    training_accuracy = []\n",
    "    validation_loss = []\n",
    "    validation_accuracy = []\n",
    "    for epoch in range(num_epochs):\n",
    "        #training model & store loss & acc / epoch\n",
    "        correct_train = 0\n",
    "        total_train = 0\n",
    "        for i, (images, labels) in enumerate(train_loader):\n",
    "            # 1.Define variables\n",
    "            train = Variable(images.view(input_shape))\n",
    "            labels = Variable(labels)\n",
    "            # 2.Clear gradients\n",
    "            optimizer.zero_grad()\n",
    "            # 3.Forward propagation\n",
    "            outputs = model(train)\n",
    "            # 4.Calculate softmax and cross entropy loss\n",
    "            train_loss = loss_func(outputs, labels)\n",
    "            # 5.Calculate gradients\n",
    "            train_loss.backward()\n",
    "            # 6.Update parameters\n",
    "            optimizer.step()\n",
    "            # 7.Get predictions from the maximum value\n",
    "            predicted = torch.max(outputs.data, 1)[1]\n",
    "            # 8.Total number of labels\n",
    "            total_train += len(labels)\n",
    "            # 9.Total correct predictions\n",
    "            correct_train += (predicted == labels).float().sum()\n",
    "        #10.store val_acc / epoch\n",
    "        train_accuracy = 100 * correct_train / float(total_train)\n",
    "        training_accuracy.append(train_accuracy)\n",
    "        # 11.store loss / epoch\n",
    "        training_loss.append(train_loss.data)\n",
    "\n",
    "        #evaluate model & store loss & acc / epoch\n",
    "        correct_test = 0\n",
    "        total_test = 0\n",
    "        for images, labels in test_loader:\n",
    "            # 1.Define variables\n",
    "            test = Variable(images.view(input_shape))\n",
    "            # 2.Forward propagation\n",
    "            outputs = model(test)\n",
    "            # 3.Calculate softmax and cross entropy loss\n",
    "            val_loss = loss_func(outputs, labels)\n",
    "            # 4.Get predictions from the maximum value\n",
    "            predicted = torch.max(outputs.data, 1)[1]\n",
    "            # 5.Total number of labels\n",
    "            total_test += len(labels)\n",
    "            # 6.Total correct predictions\n",
    "            correct_test += (predicted == labels).float().sum()\n",
    "        #6.store val_acc / epoch\n",
    "        val_accuracy = 100 * correct_test / float(total_test)\n",
    "        validation_accuracy.append(val_accuracy)\n",
    "        # 11.store val_loss / epoch\n",
    "        validation_loss.append(val_loss.data)\n",
    "        # print('num:',num_epochs)\n",
    "        # print('train_loss:',train_loss.data)\n",
    "        # print('train_accuracy:',train_accuracy)\n",
    "        # print('val_loss.data:',val_loss.data )\n",
    "        # print('val_accuracy:',val_accuracy)\n",
    "        print('Train Epoch: {}/{} Traing_Loss: {} Traing_acc: {:.6f}% Val_Loss: {} Val_accuracy: {:.6f}%'.format(epoch+1, num_epochs, train_loss.data, train_accuracy, val_loss.data, val_accuracy))\n",
    "    return training_loss, training_accuracy, validation_loss, validation_accuracy"
   ]
  },
  {
   "cell_type": "code",
   "execution_count": 11,
   "metadata": {},
   "outputs": [
    {
     "name": "stdout",
     "output_type": "stream",
     "text": [
      "Train Epoch: 1/10 Traing_Loss: 0.17215169966220856 Traing_acc: 91.593750% Val_Loss: 0.06382561475038528 Val_accuracy: 97.008331%\n",
      "Train Epoch: 2/10 Traing_Loss: 0.07037641853094101 Traing_acc: 97.466667% Val_Loss: 0.03974764049053192 Val_accuracy: 97.766670%\n",
      "Train Epoch: 3/10 Traing_Loss: 0.11474623531103134 Traing_acc: 97.797920% Val_Loss: 0.021432828158140182 Val_accuracy: 97.724998%\n",
      "Train Epoch: 4/10 Traing_Loss: 0.02305387333035469 Traing_acc: 98.018753% Val_Loss: 0.01347832940518856 Val_accuracy: 97.724998%\n",
      "Train Epoch: 5/10 Traing_Loss: 0.027423560619354248 Traing_acc: 98.062500% Val_Loss: 0.12652699649333954 Val_accuracy: 97.916664%\n",
      "Train Epoch: 6/10 Traing_Loss: 0.03852590546011925 Traing_acc: 97.995834% Val_Loss: 0.05186060443520546 Val_accuracy: 97.916664%\n",
      "Train Epoch: 7/10 Traing_Loss: 0.036587368696928024 Traing_acc: 98.120834% Val_Loss: 0.11669597029685974 Val_accuracy: 97.941666%\n",
      "Train Epoch: 8/10 Traing_Loss: 0.07637996226549149 Traing_acc: 98.285416% Val_Loss: 0.12951470911502838 Val_accuracy: 97.800003%\n",
      "Train Epoch: 9/10 Traing_Loss: 0.05493592843413353 Traing_acc: 98.181252% Val_Loss: 0.014114119112491608 Val_accuracy: 97.875000%\n",
      "Train Epoch: 10/10 Traing_Loss: 0.007084820885211229 Traing_acc: 98.316666% Val_Loss: 0.06311700493097305 Val_accuracy: 98.224998%\n"
     ]
    }
   ],
   "source": [
    "training_loss, training_accuracy, validation_loss, validation_accuracy = fit_model(model, loss_func, optimizer, input_shape, num_epochs, train_loader, test_loader)"
   ]
  },
  {
   "cell_type": "code",
   "execution_count": 12,
   "metadata": {},
   "outputs": [
    {
     "data": {
      "image/png": "[encoded data removed]",
      "text/plain": [
       "<Figure size 432x288 with 1 Axes>"
      ]
     },
     "metadata": {
      "needs_background": "light"
     },
     "output_type": "display_data"
    },
    {
     "data": {
      "image/png": "[encoded data removed]",
      "text/plain": [
       "<Figure size 432x288 with 1 Axes>"
      ]
     },
     "metadata": {
      "needs_background": "light"
     },
     "output_type": "display_data"
    }
   ],
   "source": [
    "# visualization\n",
    "plt.plot(range(num_epochs), training_loss, 'b-', label='Training_loss')\n",
    "plt.plot(range(num_epochs), validation_loss, 'g-', label='validation_loss')\n",
    "plt.title('Training & Validation loss')\n",
    "plt.xlabel('Number of epochs')\n",
    "plt.ylabel('Loss')\n",
    "plt.legend()\n",
    "plt.show()\n",
    "plt.plot(range(num_epochs), training_accuracy, 'b-', label='Training_accuracy')\n",
    "plt.plot(range(num_epochs), validation_accuracy, 'g-', label='Validation_accuracy')\n",
    "plt.title('Training & Validation accuracy')\n",
    "plt.xlabel('Number of epochs')\n",
    "plt.ylabel('Accuracy')\n",
    "plt.legend()\n",
    "plt.show()\n"
   ]
  }
 ],
 "metadata": {
  "kernelspec": {
   "display_name": "Python 3.7.13 ('pytorch')",
   "language": "python",
   "name": "python3"
  },
  "language_info": {
   "codemirror_mode": {
    "name": "ipython",
    "version": 3
   },
   "file_extension": ".py",
   "mimetype": "text/x-python",
   "name": "python",
   "nbconvert_exporter": "python",
   "pygments_lexer": "ipython3",
   "version": "3.7.13"
  },
  "orig_nbformat": 4,
  "vscode": {
   "interpreter": {
    "hash": "c186a1ff5993288e48646042d8153cbbd80f2047b48e6f9839f3a384e19176a0"
   }
  }
 },
 "nbformat": 4,
 "nbformat_minor": 2
}
